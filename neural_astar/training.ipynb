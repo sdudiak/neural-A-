{
    "cells": [
        {
            "cell_type": "code",
            "execution_count": 1,
            "metadata": {},
            "outputs": [],
            "source": [
                "# Torch imports\n",
                "from torch.utils.data import DataLoader\n",
                "\n",
                "# Custom imports\n",
                "import torch\n",
                "import heuristics\n",
                "from dataset_utils import PathPlanningDataset\n",
                "from classic_astar import Astar\n",
                "from training_module import NeuralAstarTrainingModule\n",
                "from neural_astar import NeuralAstar\n",
                "import lightning as pl\n",
                "from differentiable_astar import DifferentiableAstar\n",
                "import encoders"
            ]
        },
        {
            "cell_type": "code",
            "execution_count": 2,
            "metadata": {},
            "outputs": [
                {
                    "name": "stdout",
                    "output_type": "stream",
                    "text": [
                        "Path not found, skipping:  Path not found\n",
                        "Path not found, skipping:  Path not found\n",
                        "Path not found, skipping:  Path not found\n"
                    ]
                }
            ],
            "source": [
                "# Dataset Generation\n",
                "\n",
                "initial_dataset = PathPlanningDataset(\n",
                "    \"/workspaces/datasets/raw/street\",\n",
                "    16,\n",
                "    5,\n",
                "    heuristics.euclidean,\n",
                "    randomize_points=False,\n",
                "    max_astar_iterations=10000,\n",
                ")\n",
                "\n",
                "training_dataloader = DataLoader(\n",
                "    initial_dataset, batch_size=5, shuffle=True, drop_last=True, num_workers=7\n",
                ")  # TODO fix for batch_size = 1"
            ]
        },
        {
            "cell_type": "code",
            "execution_count": 3,
            "metadata": {},
            "outputs": [],
            "source": [
                "# Create Astar instances\n",
                "classic_astar = Astar(\n",
                "    heuristic=heuristics.euclidean, costmap_weight=1, heuristic_weight=1\n",
                ")\n",
                "differentiable_astar = DifferentiableAstar(max_iterations=5000, costmap_weight=2)"
            ]
        },
        {
            "cell_type": "code",
            "execution_count": 4,
            "metadata": {},
            "outputs": [],
            "source": [
                "cnn = encoders.CNN(2, 2)\n",
                "astar_encoder = encoders.AstarEncoder()\n",
                "astar_encoder.add_encoder(cnn)"
            ]
        },
        {
            "cell_type": "code",
            "execution_count": 5,
            "metadata": {},
            "outputs": [],
            "source": [
                "neural_astar = NeuralAstar(\n",
                "    classic_astar=classic_astar,\n",
                "    differentiable_astar=differentiable_astar,\n",
                "    encoder=astar_encoder,\n",
                "    use_start_goal_data=True,\n",
                ")"
            ]
        },
        {
            "cell_type": "code",
            "execution_count": 6,
            "metadata": {},
            "outputs": [],
            "source": [
                "astar_training_module = NeuralAstarTrainingModule(neural_astar=neural_astar)"
            ]
        },
        {
            "cell_type": "code",
            "execution_count": 7,
            "metadata": {},
            "outputs": [
                {
                    "name": "stderr",
                    "output_type": "stream",
                    "text": [
                        "GPU available: False, used: False\n",
                        "TPU available: False, using: 0 TPU cores\n",
                        "IPU available: False, using: 0 IPUs\n",
                        "HPU available: False, using: 0 HPUs\n"
                    ]
                }
            ],
            "source": [
                "trainer = pl.Trainer(\n",
                "    accelerator=\"gpu\" if torch.cuda.is_available() else \"cpu\",\n",
                "    log_every_n_steps=1,\n",
                "    default_root_dir=\"../logs/\",\n",
                "    max_epochs=10,\n",
                ")"
            ]
        },
        {
            "cell_type": "code",
            "execution_count": 8,
            "metadata": {},
            "outputs": [
                {
                    "name": "stderr",
                    "output_type": "stream",
                    "text": [
                        "\n",
                        "  | Name          | Type        | Params\n",
                        "----------------------------------------------\n",
                        "0 | neural_astar_ | NeuralAstar | 19.9 K\n",
                        "----------------------------------------------\n",
                        "19.9 K    Trainable params\n",
                        "9         Non-trainable params\n",
                        "19.9 K    Total params\n",
                        "0.080     Total estimated model params size (MB)\n"
                    ]
                },
                {
                    "name": "stdout",
                    "output_type": "stream",
                    "text": [
                        "Epoch 0:   2%|▏         | 2/89 [00:00<00:09,  9.41it/s, v_num=2]"
                    ]
                },
                {
                    "name": "stderr",
                    "output_type": "stream",
                    "text": [
                        "/opt/conda/lib/python3.11/site-packages/torch/functional.py:504: UserWarning: torch.meshgrid: in an upcoming release, it will be required to pass the indexing argument. (Triggered internally at ../aten/src/ATen/native/TensorShape.cpp:3526.)\n",
                        "  return _VF.meshgrid(tensors, **kwargs)  # type: ignore[attr-defined]\n"
                    ]
                },
                {
                    "name": "stdout",
                    "output_type": "stream",
                    "text": [
                        "Epoch 9: 100%|██████████| 89/89 [00:03<00:00, 28.19it/s, v_num=2, train_loss=0.0475]"
                    ]
                },
                {
                    "name": "stderr",
                    "output_type": "stream",
                    "text": [
                        "`Trainer.fit` stopped: `max_epochs=10` reached.\n"
                    ]
                },
                {
                    "name": "stdout",
                    "output_type": "stream",
                    "text": [
                        "Epoch 9: 100%|██████████| 89/89 [00:03<00:00, 28.13it/s, v_num=2, train_loss=0.0475]\n"
                    ]
                }
            ],
            "source": [
                "trainer.fit(astar_training_module, training_dataloader)"
            ]
        },
        {
            "cell_type": "code",
            "execution_count": 9,
            "metadata": {},
            "outputs": [
                {
                    "data": {
                        "image/png": "[encoded data removed]",
                        "text/plain": [
                            "<Figure size 640x480 with 1 Axes>"
                        ]
                    },
                    "metadata": {},
                    "output_type": "display_data"
                },
                {
                    "data": {
                        "image/png": "[encoded data removed]",
                        "text/plain": [
                            "<Figure size 640x480 with 1 Axes>"
                        ]
                    },
                    "metadata": {},
                    "output_type": "display_data"
                }
            ],
            "source": [
                "from display import Displayer\n",
                "import matplotlib.pyplot as plt\n",
                "\n",
                "map_batch, start_batch, goal_batch, path_batch = next(iter(training_dataloader))\n",
                "map_batch = map_batch.unsqueeze(1)\n",
                "start_batch = start_batch.unsqueeze(1)\n",
                "goal_batch = goal_batch.unsqueeze(1)\n",
                "\n",
                "cosmtap_batch = neural_astar._get_cost_batch(map_batch, start_batch + goal_batch)\n",
                "cosmtap_batch = cosmtap_batch.detach()\n",
                "out_path, out_searched = neural_astar(map_batch, start_batch, goal_batch)\n",
                "\n",
                "out_path_classic, out_searched_classic = classic_astar.forward(\n",
                "    map_batch, start_batch, goal_batch, None\n",
                ")\n",
                "\n",
                "\n",
                "d = Displayer()\n",
                "d.add_matrix(map_batch[0, 0])\n",
                "d.add_start(start_batch[0, 0])\n",
                "d.add_goal(goal_batch[0, 0])\n",
                "d.add_searched_nodes(out_searched[0, 0])\n",
                "d.add_solution(out_path[0, 0])\n",
                "d.add_cost_matrix(cosmtap_batch[0, 0])\n",
                "d.prepare_plot()\n",
                "d.draw()\n",
                "\n",
                "d = Displayer()\n",
                "d.add_matrix(map_batch[0, 0])\n",
                "d.add_start(start_batch[0, 0])\n",
                "d.add_goal(goal_batch[0, 0])\n",
                "d.add_searched_nodes(out_searched_classic[0, 0])\n",
                "d.add_solution(out_path_classic[0, 0])\n",
                "# d.add_cost_matrix(cosmtap_batch[0, 0])\n",
                "d.prepare_plot()\n",
                "d.draw()"
            ]
        }
    ],
    "metadata": {
        "kernelspec": {
            "display_name": "base",
            "language": "python",
            "name": "python3"
        },
        "language_info": {
            "codemirror_mode": {
                "name": "ipython",
                "version": 3
            },
            "file_extension": ".py",
            "mimetype": "text/x-python",
            "name": "python",
            "nbconvert_exporter": "python",
            "pygments_lexer": "ipython3",
            "version": "3.11.6"
        }
    },
    "nbformat": 4,
    "nbformat_minor": 2
}
