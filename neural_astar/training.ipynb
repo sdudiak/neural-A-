{
    "cells": [
        {
            "cell_type": "code",
            "execution_count": 10,
            "metadata": {},
            "outputs": [],
            "source": [
                "# Torch imports\n",
                "from torch.utils.data import DataLoader\n",
                "\n",
                "# Custom imports\n",
                "import torch\n",
                "import heuristics\n",
                "from dataset_utils import PathPlanningDataset\n",
                "from classic_astar import Astar\n",
                "from training_module import NeuralAstarTrainingModule\n",
                "from neural_astar import NeuralAstar\n",
                "import lightning as pl\n",
                "from differentiable_astar import DifferentiableAstar\n",
                "import encoders"
            ]
        },
        {
            "cell_type": "code",
            "execution_count": 11,
            "metadata": {},
            "outputs": [],
            "source": [
                "# Dataset Generation\n",
                "\n",
                "initial_dataset = PathPlanningDataset(\n",
                "    \"/workspaces/datasets/raw/street\",\n",
                "    16,\n",
                "    1,\n",
                "    heuristics.euclidean,\n",
                "    randomize_points=False,\n",
                "    max_astar_iterations=10000,\n",
                ")\n",
                "\n",
                "training_dataloader = DataLoader(\n",
                "    initial_dataset, batch_size=10, shuffle=True, drop_last=True, num_workers=7\n",
                ")  # TODO fix for batch_size = 1"
            ]
        },
        {
            "cell_type": "code",
            "execution_count": 12,
            "metadata": {},
            "outputs": [],
            "source": [
                "# Create Astar instances\n",
                "classic_astar = Astar(\n",
                "    heuristic=heuristics.euclidean, costmap_weight=5, heuristic_weight=5\n",
                ")\n",
                "differentiable_astar = DifferentiableAstar(max_iterations=5000, costmap_weight=10)"
            ]
        },
        {
            "cell_type": "code",
            "execution_count": 13,
            "metadata": {},
            "outputs": [],
            "source": [
                "import segmentation_models_pytorch\n",
                "\n",
                "unet = segmentation_models_pytorch.Unet(\n",
                "    encoder_name=\"resnet18\",\n",
                "    encoder_depth=3,\n",
                "    encoder_weights=None,\n",
                "    decoder_channels=[2, 4, 8],\n",
                "    in_channels=2,\n",
                "    classes=1,\n",
                ")\n",
                "\n",
                "cnn = encoders.CNN(2, 4)\n",
                "astar_encoder = encoders.AstarEncoder()\n",
                "astar_encoder.add_encoder(cnn)"
            ]
        },
        {
            "cell_type": "code",
            "execution_count": 14,
            "metadata": {},
            "outputs": [],
            "source": [
                "neural_astar = NeuralAstar(\n",
                "    classic_astar=classic_astar,\n",
                "    differentiable_astar=differentiable_astar,\n",
                "    encoder=astar_encoder,\n",
                "    use_start_goal_data=True,\n",
                ")"
            ]
        },
        {
            "cell_type": "code",
            "execution_count": 15,
            "metadata": {},
            "outputs": [],
            "source": [
                "astar_training_module = NeuralAstarTrainingModule(neural_astar=neural_astar)"
            ]
        },
        {
            "cell_type": "code",
            "execution_count": 16,
            "metadata": {},
            "outputs": [
                {
                    "name": "stderr",
                    "output_type": "stream",
                    "text": [
                        "GPU available: False, used: False\n",
                        "TPU available: False, using: 0 TPU cores\n",
                        "IPU available: False, using: 0 IPUs\n",
                        "HPU available: False, using: 0 HPUs\n"
                    ]
                }
            ],
            "source": [
                "trainer = pl.Trainer(\n",
                "    accelerator=\"gpu\" if torch.cuda.is_available() else \"cpu\",\n",
                "    log_every_n_steps=1,\n",
                "    default_root_dir=\"../logs/\",\n",
                "    max_epochs=100,\n",
                ")"
            ]
        },
        {
            "cell_type": "code",
            "execution_count": 17,
            "metadata": {},
            "outputs": [
                {
                    "name": "stderr",
                    "output_type": "stream",
                    "text": [
                        "\n",
                        "  | Name          | Type        | Params\n",
                        "----------------------------------------------\n",
                        "0 | neural_astar_ | NeuralAstar | 391 K \n",
                        "----------------------------------------------\n",
                        "391 K     Trainable params\n",
                        "9         Non-trainable params\n",
                        "391 K     Total params\n",
                        "1.566     Total estimated model params size (MB)\n"
                    ]
                },
                {
                    "name": "stdout",
                    "output_type": "stream",
                    "text": [
                        "Epoch 99: 100%|██████████| 9/9 [00:01<00:00,  8.98it/s, v_num=1, train_loss=0.0162] "
                    ]
                },
                {
                    "name": "stderr",
                    "output_type": "stream",
                    "text": [
                        "`Trainer.fit` stopped: `max_epochs=100` reached.\n"
                    ]
                },
                {
                    "name": "stdout",
                    "output_type": "stream",
                    "text": [
                        "Epoch 99: 100%|██████████| 9/9 [00:01<00:00,  8.87it/s, v_num=1, train_loss=0.0162]\n"
                    ]
                }
            ],
            "source": [
                "trainer.fit(astar_training_module, training_dataloader)"
            ]
        },
        {
            "cell_type": "code",
            "execution_count": 18,
            "metadata": {},
            "outputs": [
                {
                    "name": "stdout",
                    "output_type": "stream",
                    "text": [
                        "torch.Size([10, 1, 16, 16])\n"
                    ]
                },
                {
                    "data": {
                        "image/png": "[encoded data removed]",
                        "text/plain": [
                            "<Figure size 640x480 with 1 Axes>"
                        ]
                    },
                    "metadata": {},
                    "output_type": "display_data"
                }
            ],
            "source": [
                "from display import Displayer\n",
                "import matplotlib.pyplot as plt\n",
                "\n",
                "map_batch, start_batch, goal_batch, path_batch = next(iter(training_dataloader))\n",
                "map_batch = map_batch.unsqueeze(1)\n",
                "start_batch = start_batch.unsqueeze(1)\n",
                "goal_batch = goal_batch.unsqueeze(1)\n",
                "\n",
                "\n",
                "print(map_batch.shape)\n",
                "\n",
                "cosmtap_batch = neural_astar._get_cost_batch(map_batch, start_batch + goal_batch)\n",
                "cosmtap_batch = cosmtap_batch.detach()\n",
                "out_path, out_searched = neural_astar(map_batch, start_batch, goal_batch)\n",
                "\n",
                "d = Displayer()\n",
                "d.draw_full_astar_output(\n",
                "    map_batch[0, 0],\n",
                "    start_batch[0, 0],\n",
                "    goal_batch[0, 0],\n",
                "    out_searched[0, 0],\n",
                "    out_path[0, 0],\n",
                "    cosmtap_batch[0, 0],\n",
                ")"
            ]
        }
    ],
    "metadata": {
        "kernelspec": {
            "display_name": "base",
            "language": "python",
            "name": "python3"
        },
        "language_info": {
            "codemirror_mode": {
                "name": "ipython",
                "version": 3
            },
            "file_extension": ".py",
            "mimetype": "text/x-python",
            "name": "python",
            "nbconvert_exporter": "python",
            "pygments_lexer": "ipython3",
            "version": "3.11.6"
        }
    },
    "nbformat": 4,
    "nbformat_minor": 2
}
